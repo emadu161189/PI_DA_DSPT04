{
 "cells": [
  {
   "cell_type": "code",
   "execution_count": 98,
   "metadata": {},
   "outputs": [],
   "source": [
    "import pandas as pd\n",
    "from datetime import datetime\n"
   ]
  },
  {
   "cell_type": "markdown",
   "metadata": {},
   "source": [
    "PENETRACION DE INTERMET FIJO (POR CADA 100 HOGARES)"
   ]
  },
  {
   "cell_type": "code",
   "execution_count": 99,
   "metadata": {},
   "outputs": [
    {
     "name": "stdout",
     "output_type": "stream",
     "text": [
      "<class 'pandas.core.frame.DataFrame'>\n",
      "RangeIndex: 864 entries, 0 to 863\n",
      "Data columns (total 7 columns):\n",
      " #   Column                        Non-Null Count  Dtype  \n",
      "---  ------                        --------------  -----  \n",
      " 0   Año                           864 non-null    int64  \n",
      " 1   Trimestre                     864 non-null    int64  \n",
      " 2   Provincia                     864 non-null    object \n",
      " 3   Accesos por cada 100 hogares  864 non-null    object \n",
      " 4   Unnamed: 4                    0 non-null      float64\n",
      " 5   Unnamed: 5                    0 non-null      float64\n",
      " 6   Unnamed: 6                    0 non-null      float64\n",
      "dtypes: float64(3), int64(2), object(2)\n",
      "memory usage: 47.4+ KB\n"
     ]
    }
   ],
   "source": [
    "df_01 = pd.read_csv(\"penetracion_internet_fijo.csv\")\n",
    "df_01.info()"
   ]
  },
  {
   "cell_type": "code",
   "execution_count": 100,
   "metadata": {},
   "outputs": [],
   "source": [
    "df_01 = df_01.drop(columns=[\"Unnamed: 4\", \"Unnamed: 5\", \"Unnamed: 6\"]) #Eliminar columnas vacias\n",
    "df_01[\"Accesos por cada 100 hogares\"] = pd.to_numeric(df_01[\"Accesos por cada 100 hogares\"].str.replace(',', '.'), errors='coerce')"
   ]
  },
  {
   "cell_type": "code",
   "execution_count": 101,
   "metadata": {},
   "outputs": [
    {
     "data": {
      "text/html": [
       "<div>\n",
       "<style scoped>\n",
       "    .dataframe tbody tr th:only-of-type {\n",
       "        vertical-align: middle;\n",
       "    }\n",
       "\n",
       "    .dataframe tbody tr th {\n",
       "        vertical-align: top;\n",
       "    }\n",
       "\n",
       "    .dataframe thead th {\n",
       "        text-align: right;\n",
       "    }\n",
       "</style>\n",
       "<table border=\"1\" class=\"dataframe\">\n",
       "  <thead>\n",
       "    <tr style=\"text-align: right;\">\n",
       "      <th></th>\n",
       "      <th>Año</th>\n",
       "      <th>Trimestre</th>\n",
       "      <th>Provincia</th>\n",
       "      <th>Accesos por cada 100 hogares</th>\n",
       "    </tr>\n",
       "  </thead>\n",
       "  <tbody>\n",
       "    <tr>\n",
       "      <th>0</th>\n",
       "      <td>2022</td>\n",
       "      <td>4</td>\n",
       "      <td>Buenos Aires</td>\n",
       "      <td>78.94</td>\n",
       "    </tr>\n",
       "    <tr>\n",
       "      <th>1</th>\n",
       "      <td>2022</td>\n",
       "      <td>4</td>\n",
       "      <td>Capital Federal</td>\n",
       "      <td>122.73</td>\n",
       "    </tr>\n",
       "    <tr>\n",
       "      <th>2</th>\n",
       "      <td>2022</td>\n",
       "      <td>4</td>\n",
       "      <td>Catamarca</td>\n",
       "      <td>65.77</td>\n",
       "    </tr>\n",
       "    <tr>\n",
       "      <th>3</th>\n",
       "      <td>2022</td>\n",
       "      <td>4</td>\n",
       "      <td>Chaco</td>\n",
       "      <td>43.62</td>\n",
       "    </tr>\n",
       "    <tr>\n",
       "      <th>4</th>\n",
       "      <td>2022</td>\n",
       "      <td>4</td>\n",
       "      <td>Chubut</td>\n",
       "      <td>85.57</td>\n",
       "    </tr>\n",
       "  </tbody>\n",
       "</table>\n",
       "</div>"
      ],
      "text/plain": [
       "    Año  Trimestre        Provincia  Accesos por cada 100 hogares\n",
       "0  2022          4     Buenos Aires                         78.94\n",
       "1  2022          4  Capital Federal                        122.73\n",
       "2  2022          4        Catamarca                         65.77\n",
       "3  2022          4            Chaco                         43.62\n",
       "4  2022          4           Chubut                         85.57"
      ]
     },
     "execution_count": 101,
     "metadata": {},
     "output_type": "execute_result"
    }
   ],
   "source": [
    "df_01.head()"
   ]
  },
  {
   "cell_type": "code",
   "execution_count": 102,
   "metadata": {},
   "outputs": [
    {
     "name": "stdout",
     "output_type": "stream",
     "text": [
      "En Argentina 24 provincias poseen acceso a internet fijo entre los años 2014 y 2022\n"
     ]
    }
   ],
   "source": [
    "print(f\"En Argentina {len(df_01['Provincia'].unique())} provincias poseen acceso a internet fijo entre los años {df_01['Año'].min()} y {df_01['Año'].max()}\") #24 provincias"
   ]
  },
  {
   "cell_type": "code",
   "execution_count": 103,
   "metadata": {},
   "outputs": [
    {
     "data": {
      "text/html": [
       "<div>\n",
       "<style scoped>\n",
       "    .dataframe tbody tr th:only-of-type {\n",
       "        vertical-align: middle;\n",
       "    }\n",
       "\n",
       "    .dataframe tbody tr th {\n",
       "        vertical-align: top;\n",
       "    }\n",
       "\n",
       "    .dataframe thead th {\n",
       "        text-align: right;\n",
       "    }\n",
       "</style>\n",
       "<table border=\"1\" class=\"dataframe\">\n",
       "  <thead>\n",
       "    <tr style=\"text-align: right;\">\n",
       "      <th></th>\n",
       "      <th>Año</th>\n",
       "      <th>Trimestre</th>\n",
       "      <th>Provincia</th>\n",
       "      <th>Accesos por cada 100 hogares</th>\n",
       "      <th>%_Variacion</th>\n",
       "    </tr>\n",
       "  </thead>\n",
       "  <tbody>\n",
       "    <tr>\n",
       "      <th>840</th>\n",
       "      <td>2014</td>\n",
       "      <td>1</td>\n",
       "      <td>Buenos Aires</td>\n",
       "      <td>54.57</td>\n",
       "      <td>NaN</td>\n",
       "    </tr>\n",
       "    <tr>\n",
       "      <th>816</th>\n",
       "      <td>2014</td>\n",
       "      <td>2</td>\n",
       "      <td>Buenos Aires</td>\n",
       "      <td>55.06</td>\n",
       "      <td>0.897929</td>\n",
       "    </tr>\n",
       "    <tr>\n",
       "      <th>792</th>\n",
       "      <td>2014</td>\n",
       "      <td>3</td>\n",
       "      <td>Buenos Aires</td>\n",
       "      <td>56.75</td>\n",
       "      <td>3.069379</td>\n",
       "    </tr>\n",
       "    <tr>\n",
       "      <th>768</th>\n",
       "      <td>2014</td>\n",
       "      <td>4</td>\n",
       "      <td>Buenos Aires</td>\n",
       "      <td>56.09</td>\n",
       "      <td>-1.162996</td>\n",
       "    </tr>\n",
       "    <tr>\n",
       "      <th>744</th>\n",
       "      <td>2015</td>\n",
       "      <td>1</td>\n",
       "      <td>Buenos Aires</td>\n",
       "      <td>56.37</td>\n",
       "      <td>0.499198</td>\n",
       "    </tr>\n",
       "    <tr>\n",
       "      <th>...</th>\n",
       "      <td>...</td>\n",
       "      <td>...</td>\n",
       "      <td>...</td>\n",
       "      <td>...</td>\n",
       "      <td>...</td>\n",
       "    </tr>\n",
       "    <tr>\n",
       "      <th>119</th>\n",
       "      <td>2021</td>\n",
       "      <td>4</td>\n",
       "      <td>Tucumán</td>\n",
       "      <td>55.93</td>\n",
       "      <td>2.360908</td>\n",
       "    </tr>\n",
       "    <tr>\n",
       "      <th>95</th>\n",
       "      <td>2022</td>\n",
       "      <td>1</td>\n",
       "      <td>Tucumán</td>\n",
       "      <td>57.39</td>\n",
       "      <td>2.610406</td>\n",
       "    </tr>\n",
       "    <tr>\n",
       "      <th>71</th>\n",
       "      <td>2022</td>\n",
       "      <td>2</td>\n",
       "      <td>Tucumán</td>\n",
       "      <td>59.31</td>\n",
       "      <td>3.345531</td>\n",
       "    </tr>\n",
       "    <tr>\n",
       "      <th>47</th>\n",
       "      <td>2022</td>\n",
       "      <td>3</td>\n",
       "      <td>Tucumán</td>\n",
       "      <td>61.14</td>\n",
       "      <td>3.085483</td>\n",
       "    </tr>\n",
       "    <tr>\n",
       "      <th>23</th>\n",
       "      <td>2022</td>\n",
       "      <td>4</td>\n",
       "      <td>Tucumán</td>\n",
       "      <td>61.04</td>\n",
       "      <td>-0.163559</td>\n",
       "    </tr>\n",
       "  </tbody>\n",
       "</table>\n",
       "<p>864 rows × 5 columns</p>\n",
       "</div>"
      ],
      "text/plain": [
       "      Año  Trimestre     Provincia  Accesos por cada 100 hogares  %_Variacion\n",
       "840  2014          1  Buenos Aires                         54.57          NaN\n",
       "816  2014          2  Buenos Aires                         55.06     0.897929\n",
       "792  2014          3  Buenos Aires                         56.75     3.069379\n",
       "768  2014          4  Buenos Aires                         56.09    -1.162996\n",
       "744  2015          1  Buenos Aires                         56.37     0.499198\n",
       "..    ...        ...           ...                           ...          ...\n",
       "119  2021          4       Tucumán                         55.93     2.360908\n",
       "95   2022          1       Tucumán                         57.39     2.610406\n",
       "71   2022          2       Tucumán                         59.31     3.345531\n",
       "47   2022          3       Tucumán                         61.14     3.085483\n",
       "23   2022          4       Tucumán                         61.04    -0.163559\n",
       "\n",
       "[864 rows x 5 columns]"
      ]
     },
     "execution_count": 103,
     "metadata": {},
     "output_type": "execute_result"
    }
   ],
   "source": [
    "df_01 = df_01.sort_values(by=[\"Provincia\", 'Año', 'Trimestre'])\n",
    "df_01['%_Variacion'] = df_01['Accesos por cada 100 hogares'].pct_change() * 100\n",
    "df_01"
   ]
  },
  {
   "cell_type": "markdown",
   "metadata": {},
   "source": [
    "PENETRACION POR HOGARES NACIONAL DE INTERNET FIJO"
   ]
  },
  {
   "cell_type": "code",
   "execution_count": 36,
   "metadata": {},
   "outputs": [
    {
     "name": "stdout",
     "output_type": "stream",
     "text": [
      "<class 'pandas.core.frame.DataFrame'>\n",
      "RangeIndex: 36 entries, 0 to 35\n",
      "Data columns (total 5 columns):\n",
      " #   Column                        Non-Null Count  Dtype \n",
      "---  ------                        --------------  ----- \n",
      " 0   Año                           36 non-null     int64 \n",
      " 1   Trimestre                     36 non-null     int64 \n",
      " 2   Accesos por cada 100 hogares  36 non-null     object\n",
      " 3   Accesos por cada 100 hab      36 non-null     object\n",
      " 4   Periodo                       36 non-null     object\n",
      "dtypes: int64(2), object(3)\n",
      "memory usage: 1.5+ KB\n"
     ]
    }
   ],
   "source": [
    "df_02 = pd.read_csv(\"penetracion_hogares_nacional_internet_fijo.csv\")\n",
    "df_02.info()"
   ]
  },
  {
   "cell_type": "markdown",
   "metadata": {},
   "source": [
    "TOTAL NACIONAL DE ACCESOS A INTERNET FIJO POR BANDA ANCHA Y BANDA ANGOSTA"
   ]
  },
  {
   "cell_type": "code",
   "execution_count": 35,
   "metadata": {},
   "outputs": [
    {
     "name": "stdout",
     "output_type": "stream",
     "text": [
      "<class 'pandas.core.frame.DataFrame'>\n",
      "RangeIndex: 36 entries, 0 to 35\n",
      "Data columns (total 6 columns):\n",
      " #   Column            Non-Null Count  Dtype \n",
      "---  ------            --------------  ----- \n",
      " 0   Año               36 non-null     int64 \n",
      " 1   Trimestre         36 non-null     int64 \n",
      " 2   Banda ancha fija  36 non-null     int64 \n",
      " 3   Dial up           36 non-null     int64 \n",
      " 4   Total             36 non-null     int64 \n",
      " 5   Periodo           36 non-null     object\n",
      "dtypes: int64(5), object(1)\n",
      "memory usage: 1.8+ KB\n"
     ]
    }
   ],
   "source": [
    "df_03 = pd.read_csv(\"total_accesos_BAncha_BAngosta.csv\")\n",
    "df_03.info()"
   ]
  },
  {
   "cell_type": "markdown",
   "metadata": {},
   "source": [
    "ACCESOS A BANDA ANCHA Y BANDA ANGOSTA POR PROVINCIA"
   ]
  },
  {
   "cell_type": "code",
   "execution_count": 34,
   "metadata": {},
   "outputs": [
    {
     "name": "stdout",
     "output_type": "stream",
     "text": [
      "<class 'pandas.core.frame.DataFrame'>\n",
      "RangeIndex: 864 entries, 0 to 863\n",
      "Data columns (total 6 columns):\n",
      " #   Column            Non-Null Count  Dtype  \n",
      "---  ------            --------------  -----  \n",
      " 0   Año               864 non-null    int64  \n",
      " 1   Trimestre         864 non-null    int64  \n",
      " 2   Provincia         864 non-null    object \n",
      " 3   Banda ancha fija  864 non-null    int64  \n",
      " 4   Dial up           862 non-null    float64\n",
      " 5   Total             864 non-null    int64  \n",
      "dtypes: float64(1), int64(4), object(1)\n",
      "memory usage: 40.6+ KB\n"
     ]
    }
   ],
   "source": [
    "df_04 = pd.read_csv(\"BAncha_BAngosta_provincia.csv\")\n",
    "df_04.info()"
   ]
  },
  {
   "cell_type": "markdown",
   "metadata": {},
   "source": [
    "SERIE TRIMESTRAL DE ACCESOS A INTERNET FIJO POR TECNOLOGIA"
   ]
  },
  {
   "cell_type": "code",
   "execution_count": 33,
   "metadata": {},
   "outputs": [
    {
     "name": "stdout",
     "output_type": "stream",
     "text": [
      "<class 'pandas.core.frame.DataFrame'>\n",
      "RangeIndex: 36 entries, 0 to 35\n",
      "Data columns (total 9 columns):\n",
      " #   Column        Non-Null Count  Dtype \n",
      "---  ------        --------------  ----- \n",
      " 0   Año           36 non-null     int64 \n",
      " 1   Trimestre     36 non-null     int64 \n",
      " 2   ADSL          36 non-null     int64 \n",
      " 3   Cablemodem    36 non-null     int64 \n",
      " 4   Fibra óptica  36 non-null     int64 \n",
      " 5   Wireless      36 non-null     int64 \n",
      " 6   Otros         36 non-null     int64 \n",
      " 7   Total         36 non-null     int64 \n",
      " 8   Periodo       36 non-null     object\n",
      "dtypes: int64(8), object(1)\n",
      "memory usage: 2.7+ KB\n"
     ]
    }
   ],
   "source": [
    "df_05 = pd.read_csv(\"Internet_Accesos-por-tecnologia.csv\")\n",
    "df_05.info()"
   ]
  },
  {
   "cell_type": "markdown",
   "metadata": {},
   "source": [
    "ACCESO A INTERNET FIJO POR TECNOLOGIA Y PROVINCIA"
   ]
  },
  {
   "cell_type": "code",
   "execution_count": 32,
   "metadata": {},
   "outputs": [
    {
     "name": "stdout",
     "output_type": "stream",
     "text": [
      "<class 'pandas.core.frame.DataFrame'>\n",
      "RangeIndex: 865 entries, 0 to 864\n",
      "Data columns (total 9 columns):\n",
      " #   Column        Non-Null Count  Dtype  \n",
      "---  ------        --------------  -----  \n",
      " 0   Año           865 non-null    object \n",
      " 1   Trimestre     865 non-null    object \n",
      " 2   Provincia     864 non-null    object \n",
      " 3   ADSL          864 non-null    float64\n",
      " 4   Cablemodem    864 non-null    float64\n",
      " 5   Fibra óptica  864 non-null    float64\n",
      " 6   Wireless      864 non-null    float64\n",
      " 7   Otros         864 non-null    float64\n",
      " 8   Total         864 non-null    float64\n",
      "dtypes: float64(6), object(3)\n",
      "memory usage: 60.9+ KB\n"
     ]
    }
   ],
   "source": [
    "df_06 = pd.read_csv(\"Internet_Accesos-por-tecnologia_provincia.csv\")\n",
    "df_06.info()"
   ]
  },
  {
   "cell_type": "markdown",
   "metadata": {},
   "source": [
    "VELOCIDAD MEDIA DE BAJADA DE INTERNET FIJO"
   ]
  },
  {
   "cell_type": "code",
   "execution_count": 31,
   "metadata": {},
   "outputs": [
    {
     "name": "stdout",
     "output_type": "stream",
     "text": [
      "<class 'pandas.core.frame.DataFrame'>\n",
      "RangeIndex: 36 entries, 0 to 35\n",
      "Data columns (total 4 columns):\n",
      " #   Column                  Non-Null Count  Dtype  \n",
      "---  ------                  --------------  -----  \n",
      " 0   Año                     36 non-null     int64  \n",
      " 1   Trimestre               36 non-null     int64  \n",
      " 2   Mbps (Media de bajada)  36 non-null     float64\n",
      " 3   Trimestre.1             36 non-null     object \n",
      "dtypes: float64(1), int64(2), object(1)\n",
      "memory usage: 1.2+ KB\n"
     ]
    }
   ],
   "source": [
    "df_07 = pd.read_csv(\"historico_velocidad_internet.csv\")\n",
    "df_07.info()"
   ]
  },
  {
   "cell_type": "markdown",
   "metadata": {},
   "source": [
    "VELOCIDAD MEDIA DE BAJADA DE INTERNET FIJO POR PROVINCIA"
   ]
  },
  {
   "cell_type": "code",
   "execution_count": 30,
   "metadata": {},
   "outputs": [
    {
     "name": "stdout",
     "output_type": "stream",
     "text": [
      "<class 'pandas.core.frame.DataFrame'>\n",
      "RangeIndex: 864 entries, 0 to 863\n",
      "Data columns (total 4 columns):\n",
      " #   Column                  Non-Null Count  Dtype  \n",
      "---  ------                  --------------  -----  \n",
      " 0   Año                     864 non-null    int64  \n",
      " 1   Trimestre               864 non-null    int64  \n",
      " 2   Provincia               864 non-null    object \n",
      " 3   Mbps (Media de bajada)  864 non-null    float64\n",
      "dtypes: float64(1), int64(2), object(1)\n",
      "memory usage: 27.1+ KB\n"
     ]
    }
   ],
   "source": [
    "df_08 = pd.read_csv(\"historico_velocidad_internet_provincia.csv\")\n",
    "df_08.info()"
   ]
  },
  {
   "cell_type": "markdown",
   "metadata": {},
   "source": [
    "DISTRIBUCION DE LOS ACCESOS TOTALES NACIONALES A INTERNET FIJO POR VELOCIDAD"
   ]
  },
  {
   "cell_type": "code",
   "execution_count": 29,
   "metadata": {},
   "outputs": [
    {
     "name": "stdout",
     "output_type": "stream",
     "text": [
      "<class 'pandas.core.frame.DataFrame'>\n",
      "RangeIndex: 36 entries, 0 to 35\n",
      "Data columns (total 11 columns):\n",
      " #   Column                   Non-Null Count  Dtype  \n",
      "---  ------                   --------------  -----  \n",
      " 0   Año                      36 non-null     int64  \n",
      " 1   Trimestre                36 non-null     int64  \n",
      " 2   Hasta 512 kbps           36 non-null     float64\n",
      " 3   Entre 512 Kbps y 1 Mbps  36 non-null     float64\n",
      " 4   Entre 1 Mbps y 6 Mbps    36 non-null     object \n",
      " 5   Entre 6 Mbps y 10 Mbps   36 non-null     object \n",
      " 6   Entre 10 Mbps y 20 Mbps  36 non-null     object \n",
      " 7   Entre 20 Mbps y 30 Mbps  36 non-null     object \n",
      " 8   Más de 30 Mbps           36 non-null     object \n",
      " 9   OTROS                    36 non-null     float64\n",
      " 10  Total                    36 non-null     object \n",
      "dtypes: float64(3), int64(2), object(6)\n",
      "memory usage: 3.2+ KB\n"
     ]
    }
   ],
   "source": [
    "df_09 = pd.read_csv(\"Internet_Accesos-por-velocidad.csv\")\n",
    "df_09.info()"
   ]
  },
  {
   "cell_type": "markdown",
   "metadata": {},
   "source": [
    "ACCESO A INTERNET FIJO POR RANGOS DE VELOCIDAD DE BAJADA Y PROVINCIA"
   ]
  },
  {
   "cell_type": "code",
   "execution_count": 28,
   "metadata": {},
   "outputs": [
    {
     "name": "stdout",
     "output_type": "stream",
     "text": [
      "<class 'pandas.core.frame.DataFrame'>\n",
      "RangeIndex: 864 entries, 0 to 863\n",
      "Data columns (total 12 columns):\n",
      " #   Column               Non-Null Count  Dtype  \n",
      "---  ------               --------------  -----  \n",
      " 0   Año                  864 non-null    int64  \n",
      " 1   Trimestre            864 non-null    int64  \n",
      " 2   Provincia            864 non-null    object \n",
      " 3   HASTA 512 kbps       864 non-null    float64\n",
      " 4   + 512 Kbps - 1 Mbps  864 non-null    float64\n",
      " 5   + 1 Mbps - 6 Mbps    864 non-null    object \n",
      " 6   + 6 Mbps - 10 Mbps   864 non-null    float64\n",
      " 7   + 10 Mbps - 20 Mbps  864 non-null    float64\n",
      " 8   + 20 Mbps - 30 Mbps  864 non-null    float64\n",
      " 9   + 30 Mbps            864 non-null    object \n",
      " 10  OTROS                858 non-null    float64\n",
      " 11  Total                864 non-null    object \n",
      "dtypes: float64(6), int64(2), object(4)\n",
      "memory usage: 81.1+ KB\n"
     ]
    }
   ],
   "source": [
    "df_10 = pd.read_csv(\"Internet_Accesos-por-velocidad_rangos_provincia.csv\")\n",
    "df_10.info()"
   ]
  },
  {
   "cell_type": "markdown",
   "metadata": {},
   "source": [
    "ACCESOS A INTERNET FIJO POR VELOCIDAD DE BAJADA Y PROVINCIA"
   ]
  },
  {
   "cell_type": "code",
   "execution_count": 27,
   "metadata": {},
   "outputs": [
    {
     "name": "stdout",
     "output_type": "stream",
     "text": [
      "<class 'pandas.core.frame.DataFrame'>\n",
      "RangeIndex: 505 entries, 0 to 504\n",
      "Data columns (total 97 columns):\n",
      " #   Column      Non-Null Count  Dtype  \n",
      "---  ------      --------------  -----  \n",
      " 0   Año         504 non-null    float64\n",
      " 1   Trimestre   504 non-null    float64\n",
      " 2   Provincia   504 non-null    object \n",
      " 3   Otros       504 non-null    object \n",
      " 4   0,256 Mbps  504 non-null    object \n",
      " 5   0,375 Mbps  504 non-null    object \n",
      " 6   0,625 Mbps  504 non-null    object \n",
      " 7   0,5 Mbps    504 non-null    float64\n",
      " 8   0,512 Mbps  504 non-null    object \n",
      " 9   0,75 Mbps   504 non-null    object \n",
      " 10  1 Mbps      504 non-null    object \n",
      " 11  1,2 Mbps    504 non-null    object \n",
      " 12  1,25 Mbps   504 non-null    object \n",
      " 13  1,5 Mbps    504 non-null    object \n",
      " 14  2 Mbps      504 non-null    object \n",
      " 15  2,2 Mbps    504 non-null    object \n",
      " 16  2,5 Mbps    505 non-null    object \n",
      " 17  6,7 Mbps    504 non-null    object \n",
      " 18  3 Mbps      504 non-null    float64\n",
      " 19  3,2 Mbps    504 non-null    object \n",
      " 20  3,3 Mbps    504 non-null    object \n",
      " 21  3,5 Mbps    504 non-null    object \n",
      " 22  4 Mbps      504 non-null    object \n",
      " 23  4,5 Mbps    504 non-null    object \n",
      " 24  5 Mbps      504 non-null    object \n",
      " 25  6 Mbps      504 non-null    object \n",
      " 26  6,4 Mbps    504 non-null    object \n",
      " 27  7 Mbps      504 non-null    object \n",
      " 28  7,5 Mbps    504 non-null    object \n",
      " 29  8 Mbps      504 non-null    object \n",
      " 30  9 Mbps      504 non-null    object \n",
      " 31  10 Mbps     504 non-null    float64\n",
      " 32  10,2 Mbps   504 non-null    object \n",
      " 33  10,6 Mbps   504 non-null    object \n",
      " 34  11 Mbps     504 non-null    object \n",
      " 35  12 Mbps     504 non-null    object \n",
      " 36  12,3 Mbps   504 non-null    object \n",
      " 37  13 Mbps     504 non-null    object \n",
      " 38  14 Mbps     504 non-null    object \n",
      " 39  15 Mbps     504 non-null    object \n",
      " 40  16 Mbps     504 non-null    object \n",
      " 41  17 Mbps     504 non-null    object \n",
      " 42  18 Mbps     504 non-null    object \n",
      " 43  19 Mbps     504 non-null    object \n",
      " 44  20 Mbps     504 non-null    object \n",
      " 45  20,5 Mbps   504 non-null    object \n",
      " 46  21 Mbps     504 non-null    object \n",
      " 47  22 Mbps     504 non-null    object \n",
      " 48  23 Mbps     504 non-null    object \n",
      " 49  24 Mbps     504 non-null    object \n",
      " 50  25 Mbps     504 non-null    object \n",
      " 51  25,1 Mbps   504 non-null    object \n",
      " 52  25,11 Mbps  504 non-null    object \n",
      " 53  25,5 Mbps   504 non-null    object \n",
      " 54  26 Mbps     504 non-null    object \n",
      " 55  27 Mbps     504 non-null    object \n",
      " 56  28 Mbps     504 non-null    object \n",
      " 57  29 Mbps     504 non-null    object \n",
      " 58  30 Mbps     504 non-null    object \n",
      " 59  31 Mbps     504 non-null    object \n",
      " 60  32 Mbps     504 non-null    object \n",
      " 61  34 Mbps     504 non-null    object \n",
      " 62  35 Mbps     504 non-null    object \n",
      " 63  36 Mbps     504 non-null    object \n",
      " 64  37 Mbps     504 non-null    object \n",
      " 65  38 Mbps     504 non-null    object \n",
      " 66  39 Mbps     504 non-null    object \n",
      " 67  40 Mbps     504 non-null    object \n",
      " 68  41 Mbps     504 non-null    object \n",
      " 69  45 Mbps     504 non-null    object \n",
      " 70  46 Mbps     504 non-null    object \n",
      " 71  47 Mbps     504 non-null    object \n",
      " 72  48 Mbps     504 non-null    object \n",
      " 73  49 Mbps     504 non-null    object \n",
      " 74  50 Mbps     504 non-null    object \n",
      " 75  50,1 Mbps   504 non-null    object \n",
      " 76  51 Mbps     504 non-null    object \n",
      " 77  50,25 Mbps  504 non-null    object \n",
      " 78  52 Mbps     504 non-null    object \n",
      " 79  54 Mbps     504 non-null    object \n",
      " 80  55 Mbps     504 non-null    object \n",
      " 81  56 Mbps     504 non-null    object \n",
      " 82  58 Mbps     504 non-null    object \n",
      " 83  59 Mbps     504 non-null    object \n",
      " 84  60 Mbps     504 non-null    object \n",
      " 85  61 Mbps     504 non-null    object \n",
      " 86  62 Mbps     504 non-null    object \n",
      " 87  63 Mbps     504 non-null    object \n",
      " 88  64 Mbps     504 non-null    object \n",
      " 89  65 Mbps     504 non-null    object \n",
      " 90  66 Mbps     504 non-null    object \n",
      " 91  67 Mbps     504 non-null    object \n",
      " 92  68 Mbps     504 non-null    object \n",
      " 93  70 Mbps     504 non-null    object \n",
      " 94  71 Mbps     504 non-null    object \n",
      " 95  75 Mbps     504 non-null    object \n",
      " 96  77 Mbps     504 non-null    object \n",
      "dtypes: float64(5), object(92)\n",
      "memory usage: 382.8+ KB\n"
     ]
    }
   ],
   "source": [
    "df_11 = pd.read_csv(\"AccesosaInternetfijoporvelocidadbajadayprovincia.csv\")\n",
    "df_11.info()"
   ]
  },
  {
   "cell_type": "markdown",
   "metadata": {},
   "source": [
    "INGRESOS TRIMESTRALES POR LA PRESTACION DEL SERVICIO DE INTERNET FIJO"
   ]
  },
  {
   "cell_type": "code",
   "execution_count": 26,
   "metadata": {},
   "outputs": [
    {
     "name": "stdout",
     "output_type": "stream",
     "text": [
      "<class 'pandas.core.frame.DataFrame'>\n",
      "RangeIndex: 36 entries, 0 to 35\n",
      "Data columns (total 4 columns):\n",
      " #   Column                     Non-Null Count  Dtype \n",
      "---  ------                     --------------  ----- \n",
      " 0   Año                        36 non-null     int64 \n",
      " 1   Trimestre                  36 non-null     int64 \n",
      " 2   Ingresos (miles de pesos)  36 non-null     int64 \n",
      " 3   Periodo                    36 non-null     object\n",
      "dtypes: int64(3), object(1)\n",
      "memory usage: 1.2+ KB\n"
     ]
    }
   ],
   "source": [
    "df_12 = pd.read_csv(\"Internet_Ingresos.csv\")\n",
    "df_12.info()"
   ]
  },
  {
   "cell_type": "markdown",
   "metadata": {},
   "source": [
    "ACCESO A INTERNET FIJO POR VELOCIDAD DE BAJADA Y LOCALIDAD"
   ]
  },
  {
   "cell_type": "code",
   "execution_count": 25,
   "metadata": {},
   "outputs": [
    {
     "name": "stdout",
     "output_type": "stream",
     "text": [
      "<class 'pandas.core.frame.DataFrame'>\n",
      "RangeIndex: 3095 entries, 0 to 3094\n",
      "Data columns (total 83 columns):\n",
      " #   Column      Non-Null Count  Dtype  \n",
      "---  ------      --------------  -----  \n",
      " 0   Provincia   3095 non-null   object \n",
      " 1   Partido     3095 non-null   object \n",
      " 2   Localidad   3095 non-null   object \n",
      " 3   Link Indec  3095 non-null   object \n",
      " 4   Otros       962 non-null    float64\n",
      " 5   0,256 Mbps  28 non-null     float64\n",
      " 6   0,375 Mbps  1 non-null      float64\n",
      " 7   0,5 Mbps    643 non-null    float64\n",
      " 8   0,512 Mbps  523 non-null    float64\n",
      " 9   0,625 Mbps  1 non-null      float64\n",
      " 10  0,75 Mbps   284 non-null    float64\n",
      " 11  1 Mbps      891 non-null    float64\n",
      " 12  1,25 Mbps   1 non-null      float64\n",
      " 13  1,5 Mbps    15 non-null     float64\n",
      " 14  2 Mbps      722 non-null    float64\n",
      " 15  2,2 Mbps    1 non-null      float64\n",
      " 16  2,5 Mbps    4 non-null      float64\n",
      " 17  3 Mbps      1351 non-null   float64\n",
      " 18  3,3 Mbps    1 non-null      float64\n",
      " 19  3,5 Mbps    373 non-null    float64\n",
      " 20  4 Mbps      534 non-null    float64\n",
      " 21  4,5 Mbps    1 non-null      float64\n",
      " 22  5 Mbps      1003 non-null   float64\n",
      " 23  6 Mbps      1413 non-null   float64\n",
      " 24  6,4 Mbps    1 non-null      float64\n",
      " 25  7 Mbps      225 non-null    float64\n",
      " 26  7,5 Mbps    4 non-null      float64\n",
      " 27  8 Mbps      630 non-null    float64\n",
      " 28  9 Mbps      50 non-null     float64\n",
      " 29  10 Mbps     1731 non-null   float64\n",
      " 30  10,2 Mbps   1 non-null      float64\n",
      " 31  11 Mbps     27 non-null     float64\n",
      " 32  12 Mbps     306 non-null    float64\n",
      " 33  12,3 Mbps   1 non-null      float64\n",
      " 34  13 Mbps     16 non-null     float64\n",
      " 35  14 Mbps     24 non-null     float64\n",
      " 36  15 Mbps     1061 non-null   float64\n",
      " 37  16 Mbps     16 non-null     float64\n",
      " 38  17 Mbps     1 non-null      float64\n",
      " 39  18 Mbps     20 non-null     float64\n",
      " 40  20 Mbps     1106 non-null   float64\n",
      " 41  20,5 Mbps   1 non-null      float64\n",
      " 42  21 Mbps     5 non-null      float64\n",
      " 43  22 Mbps     2 non-null      float64\n",
      " 44  23 Mbps     2 non-null      float64\n",
      " 45  24 Mbps     19 non-null     float64\n",
      " 46  25 Mbps     457 non-null    float64\n",
      " 47  25,1 Mbps   1 non-null      float64\n",
      " 48  25,5 Mbps   1 non-null      float64\n",
      " 49  26 Mbps     1 non-null      float64\n",
      " 50  27 Mbps     1 non-null      float64\n",
      " 51  30 Mbps     724 non-null    float64\n",
      " 52  31 Mbps     4 non-null      float64\n",
      " 53  32 Mbps     2 non-null      float64\n",
      " 54  34 Mbps     1 non-null      float64\n",
      " 55  35 Mbps     13 non-null     float64\n",
      " 56  36 Mbps     3 non-null      float64\n",
      " 57  38 Mbps     1 non-null      float64\n",
      " 58  39 Mbps     1 non-null      float64\n",
      " 59  40 Mbps     98 non-null     float64\n",
      " 60  41 Mbps     1 non-null      float64\n",
      " 61  45 Mbps     3 non-null      float64\n",
      " 62  46 Mbps     1 non-null      float64\n",
      " 63  48 Mbps     4 non-null      float64\n",
      " 64  49 Mbps     1 non-null      float64\n",
      " 65  50 Mbps     692 non-null    float64\n",
      " 66  50,1 Mbps   1 non-null      float64\n",
      " 67  50,25 Mbps  1 non-null      float64\n",
      " 68  51 Mbps     2 non-null      float64\n",
      " 69  55 Mbps     3 non-null      float64\n",
      " 70  58 Mbps     1 non-null      float64\n",
      " 71  59 Mbps     1 non-null      float64\n",
      " 72  60 Mbps     261 non-null    float64\n",
      " 73  61 Mbps     3 non-null      float64\n",
      " 74  62 Mbps     1 non-null      float64\n",
      " 75  64 Mbps     1 non-null      float64\n",
      " 76  65 Mbps     2 non-null      float64\n",
      " 77  66 Mbps     1 non-null      float64\n",
      " 78  70 Mbps     17 non-null     float64\n",
      " 79  75 Mbps     231 non-null    float64\n",
      " 80  78 Mbps     1 non-null      float64\n",
      " 81  80 Mbps     31 non-null     float64\n",
      " 82  83 Mbps     1 non-null      float64\n",
      "dtypes: float64(79), object(4)\n",
      "memory usage: 2.0+ MB\n"
     ]
    }
   ],
   "source": [
    "df_13 = pd.read_csv(\"AccesosaInternetfijoporvelocidaddebajadaylocalidad.csv\")\n",
    "df_13.info()"
   ]
  },
  {
   "cell_type": "markdown",
   "metadata": {},
   "source": [
    "ACCESOS A INTERNET FIJO POR TECNOLOGIA Y LOCALIDAD"
   ]
  },
  {
   "cell_type": "code",
   "execution_count": 24,
   "metadata": {},
   "outputs": [
    {
     "name": "stdout",
     "output_type": "stream",
     "text": [
      "<class 'pandas.core.frame.DataFrame'>\n",
      "RangeIndex: 3137 entries, 0 to 3136\n",
      "Data columns (total 14 columns):\n",
      " #   Column         Non-Null Count  Dtype  \n",
      "---  ------         --------------  -----  \n",
      " 0   Provincia      3137 non-null   object \n",
      " 1   Partido        3137 non-null   object \n",
      " 2   Localidad      3137 non-null   object \n",
      " 3   Link Indec     3137 non-null   object \n",
      " 4   ADSL           3137 non-null   object \n",
      " 5   CABLEMODEM     3137 non-null   object \n",
      " 6   DIAL UP        3137 non-null   object \n",
      " 7   FIBRA OPTICA   3137 non-null   object \n",
      " 8   OTROS          3137 non-null   object \n",
      " 9   SATELITAL      3137 non-null   object \n",
      " 10  WIMAX          3137 non-null   object \n",
      " 11  WIRELESS       3137 non-null   object \n",
      " 12  Total general  3137 non-null   object \n",
      " 13  Unnamed: 13    0 non-null      float64\n",
      "dtypes: float64(1), object(13)\n",
      "memory usage: 343.2+ KB\n"
     ]
    }
   ],
   "source": [
    "df_14 = pd.read_csv(\"AccesosaInternetfijoportecnologiaylocalidad.csv\")\n",
    "df_14.info()"
   ]
  },
  {
   "cell_type": "markdown",
   "metadata": {},
   "source": [
    "LISTADO DE LOCALIDADES CON CONECTIVIDAD A INTERNET"
   ]
  },
  {
   "cell_type": "code",
   "execution_count": 23,
   "metadata": {},
   "outputs": [
    {
     "name": "stdout",
     "output_type": "stream",
     "text": [
      "<class 'pandas.core.frame.DataFrame'>\n",
      "RangeIndex: 4311 entries, 0 to 4310\n",
      "Data columns (total 12 columns):\n",
      " #   Column          Non-Null Count  Dtype \n",
      "---  ------          --------------  ----- \n",
      " 0   Provincia       4311 non-null   object\n",
      " 1   Partido         4311 non-null   object\n",
      " 2   Localidad       4311 non-null   object\n",
      " 3   ADSL            4311 non-null   object\n",
      " 4   Cablemódem      4311 non-null   object\n",
      " 5   Dial Up         4311 non-null   object\n",
      " 6   Fibra óptica    4311 non-null   object\n",
      " 7   4G              4311 non-null   object\n",
      " 8   3G              4311 non-null   object\n",
      " 9   Telefonía Fija  4311 non-null   object\n",
      " 10  Wireless        4311 non-null   object\n",
      " 11  Satelital       4311 non-null   object\n",
      "dtypes: object(12)\n",
      "memory usage: 404.3+ KB\n"
     ]
    }
   ],
   "source": [
    "df_15 = pd.read_csv(\"Listadodelocalidadesconconectividadainternet.csv\")\n",
    "df_15.info()"
   ]
  }
 ],
 "metadata": {
  "kernelspec": {
   "display_name": "venv",
   "language": "python",
   "name": "python3"
  },
  "language_info": {
   "codemirror_mode": {
    "name": "ipython",
    "version": 3
   },
   "file_extension": ".py",
   "mimetype": "text/x-python",
   "name": "python",
   "nbconvert_exporter": "python",
   "pygments_lexer": "ipython3",
   "version": "3.11.1"
  }
 },
 "nbformat": 4,
 "nbformat_minor": 2
}
